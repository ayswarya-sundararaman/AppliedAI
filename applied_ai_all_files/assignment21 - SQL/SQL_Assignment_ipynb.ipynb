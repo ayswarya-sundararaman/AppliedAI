{
 "cells": [
  {
   "cell_type": "markdown",
   "metadata": {},
   "source": [
    "# SQL Assignment"
   ]
  },
  {
   "cell_type": "code",
   "execution_count": 1,
   "metadata": {},
   "outputs": [],
   "source": [
    "import pandas as pd\n",
    "import sqlite3"
   ]
  },
  {
   "cell_type": "code",
   "execution_count": 2,
   "metadata": {},
   "outputs": [],
   "source": [
    "conn = sqlite3.connect(\"Db-IMDB-Assignment.db\")\n",
    "cursor=conn.cursor()\n"
   ]
  },
  {
   "cell_type": "markdown",
   "metadata": {},
   "source": [
    "## Pre-Process the table"
   ]
  },
  {
   "cell_type": "code",
   "execution_count": 3,
   "metadata": {
    "scrolled": true
   },
   "outputs": [
    {
     "data": {
      "text/html": [
       "<div>\n",
       "<style scoped>\n",
       "    .dataframe tbody tr th:only-of-type {\n",
       "        vertical-align: middle;\n",
       "    }\n",
       "\n",
       "    .dataframe tbody tr th {\n",
       "        vertical-align: top;\n",
       "    }\n",
       "\n",
       "    .dataframe thead th {\n",
       "        text-align: right;\n",
       "    }\n",
       "</style>\n",
       "<table border=\"1\" class=\"dataframe\">\n",
       "  <thead>\n",
       "    <tr style=\"text-align: right;\">\n",
       "      <th></th>\n",
       "      <th>index</th>\n",
       "      <th>MID</th>\n",
       "      <th>title</th>\n",
       "      <th>year</th>\n",
       "      <th>rating</th>\n",
       "      <th>num_votes</th>\n",
       "    </tr>\n",
       "  </thead>\n",
       "  <tbody>\n",
       "    <tr>\n",
       "      <th>0</th>\n",
       "      <td>0</td>\n",
       "      <td>tt2388771</td>\n",
       "      <td>Mowgli</td>\n",
       "      <td>2018</td>\n",
       "      <td>6.6</td>\n",
       "      <td>21967</td>\n",
       "    </tr>\n",
       "    <tr>\n",
       "      <th>1</th>\n",
       "      <td>1</td>\n",
       "      <td>tt5164214</td>\n",
       "      <td>Ocean's Eight</td>\n",
       "      <td>2018</td>\n",
       "      <td>6.2</td>\n",
       "      <td>110861</td>\n",
       "    </tr>\n",
       "    <tr>\n",
       "      <th>2</th>\n",
       "      <td>2</td>\n",
       "      <td>tt1365519</td>\n",
       "      <td>Tomb Raider</td>\n",
       "      <td>2018</td>\n",
       "      <td>6.4</td>\n",
       "      <td>142585</td>\n",
       "    </tr>\n",
       "    <tr>\n",
       "      <th>3</th>\n",
       "      <td>4</td>\n",
       "      <td>tt8239946</td>\n",
       "      <td>Tumbbad</td>\n",
       "      <td>2018</td>\n",
       "      <td>8.5</td>\n",
       "      <td>7483</td>\n",
       "    </tr>\n",
       "    <tr>\n",
       "      <th>4</th>\n",
       "      <td>5</td>\n",
       "      <td>tt7027278</td>\n",
       "      <td>Kedarnath</td>\n",
       "      <td>2018</td>\n",
       "      <td>5.5</td>\n",
       "      <td>1970</td>\n",
       "    </tr>\n",
       "  </tbody>\n",
       "</table>\n",
       "</div>"
      ],
      "text/plain": [
       "   index        MID          title  year  rating  num_votes\n",
       "0      0  tt2388771         Mowgli  2018     6.6      21967\n",
       "1      1  tt5164214  Ocean's Eight  2018     6.2     110861\n",
       "2      2  tt1365519    Tomb Raider  2018     6.4     142585\n",
       "3      4  tt8239946        Tumbbad  2018     8.5       7483\n",
       "4      5  tt7027278      Kedarnath  2018     5.5       1970"
      ]
     },
     "execution_count": 3,
     "metadata": {},
     "output_type": "execute_result"
    }
   ],
   "source": [
    "cursor.execute('UPDATE Movie SET year = REPLACE(year, \"I\", \"\");')\n",
    "cursor.execute('UPDATE Movie SET year = REPLACE(year, \"V\", \"\");')\n",
    "cursor.execute('UPDATE Movie SET year = REPLACE(year, \"X \", \"\");')\n",
    "cursor.execute('UPDATE Movie SET title = LTRIM(title);')\n",
    "cursor.execute('UPDATE Movie SET year = RTRIM(LTRIM(year));')\n",
    "cursor.execute('UPDATE Movie SET rating = RTRIM(LTRIM(rating));')\n",
    "cursor.execute('UPDATE Movie SET num_votes = RTRIM(LTRIM(num_votes));')\n",
    "\n",
    "cursor.execute('UPDATE M_Producer SET pid = RTRIM(LTRIM(pid));')\n",
    "cursor.execute('UPDATE M_Producer SET mid = RTRIM(LTRIM(mid));')\n",
    "\n",
    "cursor.execute('UPDATE M_Director SET pid = RTRIM(LTRIM(pid));')\n",
    "cursor.execute('UPDATE M_Director SET mid = RTRIM(LTRIM(mid));')\n",
    "\n",
    "cursor.execute('UPDATE M_Cast SET pid = RTRIM(LTRIM(pid));')\n",
    "cursor.execute('UPDATE M_Cast SET mid = RTRIM(LTRIM(mid));')\n",
    "\n",
    "cursor.execute('UPDATE M_Genre SET gid = RTRIM(LTRIM(gid));')\n",
    "cursor.execute('UPDATE M_Genre SET mid = RTRIM(LTRIM(mid));')\n",
    "\n",
    "cursor.execute('UPDATE Genre SET gid = RTRIM(LTRIM(gid));')\n",
    "cursor.execute('UPDATE Genre SET name = RTRIM(LTRIM(name));')\n",
    "\n",
    "cursor.execute('UPDATE Person SET name = RTRIM(LTRIM(name));')\n",
    "cursor.execute('UPDATE Person SET pid = RTRIM(LTRIM(pid));')\n",
    "cursor.execute('UPDATE Person SET gender = RTRIM(LTRIM(gender));')\n",
    "\n",
    "### conn.commit() \n",
    "\n",
    "pd.read_sql_query(\"\"\" SELECT * from movie ORDER BY year DESC limit 5\"\"\", conn)"
   ]
  },
  {
   "cell_type": "markdown",
   "metadata": {},
   "source": [
    "## Q1 --- List all the directors who directed a 'Comedy' movie in a leap year. (You need to check that the genre is 'Comedy’ and year is a leap year) Your query should return director name, the movie name, and the year."
   ]
  },
  {
   "cell_type": "code",
   "execution_count": 4,
   "metadata": {},
   "outputs": [
    {
     "name": "stdout",
     "output_type": "stream",
     "text": [
      "(232, 3)\n",
      "Wall time: 107 ms\n"
     ]
    }
   ],
   "source": [
    "%%time\n",
    "# Write your sql query below d.name,m.name,m.year\n",
    "# select MID,case when ((year % 4 = 0 and  year % 100 <> 0) or (year % 400 = 0) ) then 'l'  \n",
    "#                    else 'nl' end as 'leap' from Movie\n",
    "query = \"\"\" select  p.name as Director_name,m.title as Movie_name ,m.year as Year from \n",
    "                Movie m  \n",
    "            join \n",
    "                M_Director d using(MID)  \n",
    "            join \n",
    "                Person p on d.PID=p.PID  \n",
    "            join\n",
    "                M_Genre mg on mg.MID=m.MID  \n",
    "            join \n",
    "                Genre g on g.GID=mg.GID \n",
    "                where LOWER(g.name) like '%comedy%' and m.year in \n",
    "                (select distinct year from \n",
    "                    (select year,case \n",
    "                                    when ((year % 4 = 0 and  year % 100 <> 0) or (year % 400 = 0) ) then 'leap'  \n",
    "                                    else 'non_leap' \n",
    "                                 end as 'year_type' from Movie)leap \n",
    "                     where year_type = 'leap') \n",
    "        \"\"\"\n",
    "\n",
    "q1 = pd.read_sql_query(query, conn)    \n",
    "print(q1.shape)\n"
   ]
  },
  {
   "cell_type": "code",
   "execution_count": 5,
   "metadata": {},
   "outputs": [
    {
     "name": "stdout",
     "output_type": "stream",
     "text": [
      "      Director_name                         Movie_name  Year\n",
      "0      Milap Zaveri                         Mastizaade  2016\n",
      "1      Danny Leiner  Harold & Kumar Go to White Castle  2004\n",
      "2    Anurag Kashyap                 Gangs of Wasseypur  2012\n",
      "3      Frank Coraci        Around the World in 80 Days  2004\n",
      "4     Griffin Dunne             The Accidental Husband  2008\n",
      "5       Anurag Basu                             Barfi!  2012\n",
      "6   Gurinder Chadha                  Bride & Prejudice  2004\n",
      "7        Mike Judge    Beavis and Butt-Head Do America  1996\n",
      "8  Tarun Mansukhani                            Dostana  2008\n",
      "9      Shakun Batra                      Kapoor & Sons  2016\n",
      "**************************************************\n",
      "Number of rows  232\n"
     ]
    }
   ],
   "source": [
    "print(q1.head(10))\n",
    "print('*'*50)\n",
    "print('Number of rows ',len(q1))\n"
   ]
  },
  {
   "cell_type": "markdown",
   "metadata": {},
   "source": [
    "## Q2 --- List the names of all the actors who played in the movie 'Anand' (1971)"
   ]
  },
  {
   "cell_type": "code",
   "execution_count": 6,
   "metadata": {},
   "outputs": [
    {
     "name": "stdout",
     "output_type": "stream",
     "text": [
      "(17, 1)\n",
      "Wall time: 265 ms\n"
     ]
    }
   ],
   "source": [
    "%%time\n",
    "# Write your sql query below\n",
    "\n",
    "query = \"\"\"select  p.name as Actor_name from Person p join M_cast mc using(pid) join Movie m on m.MID = mc.mid where\n",
    "        lower(m.title) = 'anand' \"\"\"\n",
    "\n",
    "q2 = pd.read_sql_query(query, conn)    \n",
    "print(q2.shape)\n",
    "q2.head()"
   ]
  },
  {
   "cell_type": "code",
   "execution_count": 7,
   "metadata": {},
   "outputs": [
    {
     "name": "stdout",
     "output_type": "stream",
     "text": [
      "         Actor_name\n",
      "0  Amitabh Bachchan\n",
      "1     Rajesh Khanna\n",
      "2    Brahm Bhardwaj\n",
      "3        Ramesh Deo\n",
      "4         Seema Deo\n",
      "5        Dev Kishan\n",
      "6       Durga Khote\n",
      "7     Lalita Kumari\n",
      "8      Lalita Pawar\n",
      "9      Atam Prakash\n",
      "**************************************************\n",
      "Number of rows  17\n"
     ]
    }
   ],
   "source": [
    "print(q2.head(10))\n",
    "print('*'*50)\n",
    "print('Number of rows ',len(q2))"
   ]
  },
  {
   "cell_type": "markdown",
   "metadata": {},
   "source": [
    "## Q3 --- List all the actors who acted in a film before 1970 and in a film after 1990. (That is: < 1970 and > 1990.)"
   ]
  },
  {
   "cell_type": "code",
   "execution_count": 8,
   "metadata": {},
   "outputs": [
    {
     "name": "stdout",
     "output_type": "stream",
     "text": [
      "(300, 1)\n",
      "Wall time: 692 ms\n"
     ]
    }
   ],
   "source": [
    "%%time\n",
    "# Write your sql query below\n",
    "\n",
    "query = \"\"\"select distinct A.name from\n",
    "\n",
    "        (select p.PID,p.name from \n",
    "            Person p \n",
    "        join \n",
    "            M_Cast mc on mc.PID = p.PID \n",
    "        join \n",
    "            Movie m on m.MID=mc.MID where year < 1970 )A \n",
    "            \n",
    "        join \n",
    "        \n",
    "        (select p.PID,p.name from \n",
    "            Person p \n",
    "        join \n",
    "            M_Cast mc on mc.PID = p.PID \n",
    "        join\n",
    "            Movie m on m.MID=mc.MID where  year > 1990 )B\n",
    "        \n",
    "        on A.PID = B.PID  \n",
    "    \n",
    "        \"\"\"\n",
    "\n",
    "q3 = pd.read_sql_query(query, conn)    \n",
    "print(q3.shape)\n",
    "q3.head()"
   ]
  },
  {
   "cell_type": "code",
   "execution_count": 9,
   "metadata": {},
   "outputs": [
    {
     "name": "stdout",
     "output_type": "stream",
     "text": [
      "             name\n",
      "0         Mehmood\n",
      "1           Ratna\n",
      "2  Waheeda Rehman\n",
      "3   Johnny Walker\n",
      "4  Rajendra Kumar\n",
      "5        Iftekhar\n",
      "6       Raj Mehra\n",
      "7    Lalita Pawar\n",
      "8  Achala Sachdev\n",
      "9      Sunil Dutt\n",
      "**************************************************\n",
      "Number of rows  300\n"
     ]
    }
   ],
   "source": [
    "print(q3.head(10))\n",
    "print('*'*50)\n",
    "print('Number of rows ',len(q3))"
   ]
  },
  {
   "cell_type": "markdown",
   "metadata": {},
   "source": [
    "## Q4 --- List all directors who directed 10 movies or more, in descending order of the number of movies they directed. Return the directors' names and the number of movies each of them directed."
   ]
  },
  {
   "cell_type": "code",
   "execution_count": 87,
   "metadata": {},
   "outputs": [
    {
     "name": "stdout",
     "output_type": "stream",
     "text": [
      "(58, 2)\n",
      "Wall time: 178 ms\n"
     ]
    }
   ],
   "source": [
    "%%time\n",
    "# Write your sql query below\n",
    "\n",
    "query = \"\"\"\n",
    "        select p.name,count(distinct m.MID) as numberOfMovies  from M_Director md join Movie m using(MID) join Person p \n",
    "        on p.PID=md.PID group by 1 having count(m.MID) >= 10 order by 2 desc\n",
    "        \n",
    "        \"\"\"\n",
    "\n",
    "q4 = pd.read_sql_query(query, conn)    \n",
    "print(q4.shape)\n",
    "q4.head()"
   ]
  },
  {
   "cell_type": "code",
   "execution_count": 88,
   "metadata": {},
   "outputs": [
    {
     "name": "stdout",
     "output_type": "stream",
     "text": [
      "              Name  numberOfMovies\n",
      "0     David Dhawan              39\n",
      "1     Mahesh Bhatt              36\n",
      "2     Priyadarshan              30\n",
      "3  Ram Gopal Varma              30\n",
      "4     Vikram Bhatt              29\n",
      "**************************************************\n",
      "Number of rows  58\n"
     ]
    }
   ],
   "source": [
    "print(q4.head(5))\n",
    "print('*'*50)\n",
    "print('Number of rows ',len(q4))"
   ]
  },
  {
   "cell_type": "markdown",
   "metadata": {},
   "source": [
    "## Q5.a --- For each year, count the number of movies in that year that had only female actors."
   ]
  },
  {
   "cell_type": "code",
   "execution_count": 41,
   "metadata": {},
   "outputs": [
    {
     "name": "stdout",
     "output_type": "stream",
     "text": [
      "(78, 2)\n",
      "Wall time: 373 ms\n"
     ]
    }
   ],
   "source": [
    "%%time\n",
    "# Write your sql query below\n",
    "## added : UNION \n",
    "##                    select distinct mc.MID from \n",
    "##                        M_cast mc  where mc.PID is null  \n",
    "## to consider null PID from M_cast as non female movies too.\n",
    "query = \"\"\" select m.year,count(A.MID) from Movie m left join (select m.year,m.MID  \n",
    "                    from Movie m where m.MID not in \n",
    "                (select distinct m.MID from Movie m \n",
    "                 join \n",
    "                    M_cast mc using(MID) \n",
    "                 join \n",
    "                    Person p on p.PID=mc.PID where lower(TRIM(p.gender)) != 'female' \n",
    "                 UNION \n",
    "                    select distinct mc.MID from \n",
    "                        M_cast mc  where mc.PID is null))A using(MID) group by 1\n",
    "        \n",
    "        \"\"\"\n",
    "\n",
    "q5a = pd.read_sql_query(query, conn)    \n",
    "print(q5a.shape)\n",
    "q5a.head()"
   ]
  },
  {
   "cell_type": "code",
   "execution_count": 45,
   "metadata": {},
   "outputs": [
    {
     "name": "stdout",
     "output_type": "stream",
     "text": [
      "   year  count(A.MID)\n",
      "0  1931             0\n",
      "1  1936             0\n",
      "2  1939             1\n",
      "3  1941             0\n",
      "4  1943             0\n",
      "5  1946             0\n",
      "**************************************************\n",
      "Number of rows  78\n"
     ]
    }
   ],
   "source": [
    "print(q5a.head(6))\n",
    "print('*'*50)\n",
    "print('Number of rows ',len(q5a))"
   ]
  },
  {
   "cell_type": "markdown",
   "metadata": {},
   "source": [
    "## Q5.b --- Now include a small change: report for each year the percentage of movies in that year with only female actors, and the total number of movies made that year. For example, one answer will be: 1990 31.81 13522 meaning that in 1990 there were 13,522 movies, and 31.81% had only female actors. You do not need to round your answer."
   ]
  },
  {
   "cell_type": "code",
   "execution_count": 43,
   "metadata": {},
   "outputs": [
    {
     "name": "stdout",
     "output_type": "stream",
     "text": [
      "(78, 3)\n",
      "Wall time: 390 ms\n"
     ]
    }
   ],
   "source": [
    "%%time\n",
    "# Write your sql query below\n",
    "\n",
    "query = \"\"\"select m.year,count(distinct A.MID)*100 / count(distinct m.MID) as '%', count(distinct m.MID) as total_count \n",
    "           from Movie m \n",
    "           left join \n",
    "                (select year,m.MID from Movie m where m.MID not in \n",
    "                    (select distinct m.MID from Movie m \n",
    "                 join \n",
    "                    M_cast mc using(MID) \n",
    "                 join \n",
    "                    Person p on p.PID=mc.PID where lower(TRIM(p.gender)) != 'female' \n",
    "                 UNION \n",
    "                    select distinct mc.MID from \n",
    "                        M_cast mc  where mc.PID is null))A  \n",
    "            on m.MId = A.MID group by 1\n",
    "        \"\"\"\n",
    "\n",
    "q5b = pd.read_sql_query(query, conn)    \n",
    "print(q5b.shape)\n",
    "q5b.head()"
   ]
  },
  {
   "cell_type": "code",
   "execution_count": 44,
   "metadata": {},
   "outputs": [
    {
     "name": "stdout",
     "output_type": "stream",
     "text": [
      "   year   %  total_count\n",
      "0  1931   0            1\n",
      "1  1936   0            3\n",
      "2  1939  50            2\n",
      "3  1941   0            1\n",
      "4  1943   0            1\n",
      "**************************************************\n",
      "Number of rows  78\n"
     ]
    }
   ],
   "source": [
    "print(q5b.head(5))\n",
    "print('*'*50)\n",
    "print('Number of rows ',len(q5b))"
   ]
  },
  {
   "cell_type": "markdown",
   "metadata": {},
   "source": [
    "## Q6 --- Find the film(s) with the largest cast. Return the movie title and the size of the cast. By \"cast size\" we mean the number of distinct actors that played in that movie: if an actor played multiple roles, or if it simply occurs multiple times in casts, we still count her/him only once."
   ]
  },
  {
   "cell_type": "code",
   "execution_count": 22,
   "metadata": {},
   "outputs": [
    {
     "name": "stdout",
     "output_type": "stream",
     "text": [
      "(1, 2)\n",
      "Wall time: 441 ms\n"
     ]
    }
   ],
   "source": [
    "%%time\n",
    "# Write your sql query below\n",
    "\n",
    "query = \"\"\"\n",
    "        select m.title,count(distinct p.PID) from \n",
    "            Movie m \n",
    "        join \n",
    "            M_Cast mc using(MID) \n",
    "        join \n",
    "            Person p using(PID)\n",
    "        group by 1 order by 2 desc limit 1 \n",
    "        \n",
    "        \"\"\"\n",
    "\n",
    "q6 = pd.read_sql_query(query, conn)    \n",
    "print(q6.shape)\n",
    "q6.head()"
   ]
  },
  {
   "cell_type": "code",
   "execution_count": 23,
   "metadata": {},
   "outputs": [
    {
     "name": "stdout",
     "output_type": "stream",
     "text": [
      "           title  count(distinct p.PID)\n",
      "0  Ocean's Eight                    238\n",
      "**************************************************\n",
      "Number of rows  1\n"
     ]
    }
   ],
   "source": [
    "print(q6.head(5))\n",
    "print('*'*50)\n",
    "print('Number of rows ',len(q6))"
   ]
  },
  {
   "cell_type": "markdown",
   "metadata": {},
   "source": [
    "## Q7 --- A decade is a sequence of 10 consecutive years. For example, say in your database you have movie information starting from 1965. Then the first decade is 1965, 1966, ..., 1974; the second one is 1967, 1968, ..., 1976 and so on. Find the decade D with the largest number of films and the total number of films in D."
   ]
  },
  {
   "cell_type": "code",
   "execution_count": 24,
   "metadata": {},
   "outputs": [
    {
     "name": "stdout",
     "output_type": "stream",
     "text": [
      "(1, 3)\n",
      "Wall time: 146 ms\n"
     ]
    }
   ],
   "source": [
    "%%time\n",
    "# Write your sql query below\n",
    "\n",
    "query = \"\"\"\n",
    "        select dy.year as begin, dy.year+9 as end,count(distinct m.MID) as count_movies \n",
    "        from \n",
    "            (select distinct year from Movie) dy\n",
    "        join \n",
    "            Movie m  on m.year>=begin and m.year<= end \n",
    "        group by 1 order by 3 desc limit 1\n",
    "        \n",
    "        \"\"\"\n",
    "\n",
    "q7 = pd.read_sql_query(query, conn)    \n",
    "print(q7.shape)\n",
    "q7.head()"
   ]
  },
  {
   "cell_type": "code",
   "execution_count": 25,
   "metadata": {},
   "outputs": [
    {
     "name": "stdout",
     "output_type": "stream",
     "text": [
      "  begin   end  count_movies\n",
      "0  2008  2017          1205\n",
      "**************************************************\n",
      "Number of rows  1\n"
     ]
    }
   ],
   "source": [
    "print(q7.head(5))\n",
    "print('*'*50)\n",
    "print('Number of rows ',len(q7))"
   ]
  },
  {
   "cell_type": "markdown",
   "metadata": {},
   "source": [
    "## Q8 --- Find all the actors that made more movies with Yash Chopra than any other director."
   ]
  },
  {
   "cell_type": "code",
   "execution_count": 83,
   "metadata": {},
   "outputs": [
    {
     "name": "stdout",
     "output_type": "stream",
     "text": [
      "(98, 3)\n",
      "Wall time: 1.85 s\n"
     ]
    }
   ],
   "source": [
    "%%time\n",
    "# Write your sql query below\n",
    "## Approach ----\n",
    "## 1. find all the  director name and actor name with count of distinct movies common to the actor and director\n",
    "##    and sort by desc order of count of movies \n",
    "## 1. query :\n",
    "####   (select actor.name as act,dir.name as direc,count(distinct actor.MID) as cnt \n",
    "#                 from\n",
    "#                     (select m.MID,p.name from Movie m join M_director md using(MID) join Person p using(PID))dir \n",
    "#                     join\n",
    "#                     (select m.MID,p.name from Movie m join M_cast mc using(MID) join Person p using(PID))actor using (MID)\n",
    "#              group by 1,2 order by 3 desc) \n",
    "## 2. now group  them by the actors,so that we have a separate row for each actor .As we sorted in desc before in (1)\n",
    "##    the directors with whom actors did most films will appear as the top row on each actors group.\n",
    "## 3. now fiter out those rows from 2. which has director name as 'yash chopra'\n",
    "            \n",
    "query = \"\"\"\n",
    "        select B.act,B.direc,B.cnt from \n",
    "            (select A.act,A.direc,A.cnt from\n",
    "                (select actor.name as act,dir.name as direc,count(distinct actor.MID) as cnt \n",
    "                from\n",
    "                    (select m.MID,p.name from Movie m join M_director md using(MID) join Person p using(PID))dir \n",
    "                    join\n",
    "                    (select m.MID,p.name from Movie m join M_cast mc using(MID) join Person p using(PID))actor using (MID)\n",
    "             group by 1,2 order by 3 desc)A group by 1)B \n",
    "         where lower(B.direc) like '%yash chopra%' order by 3 desc\n",
    "        \n",
    "        \"\"\" \n",
    "\n",
    "q8 = pd.read_sql_query(query, conn)    \n",
    "print(q8.shape)\n",
    "q8.head()"
   ]
  },
  {
   "cell_type": "code",
   "execution_count": 84,
   "metadata": {},
   "outputs": [
    {
     "name": "stdout",
     "output_type": "stream",
     "text": [
      "                act        direc  cnt\n",
      "0       Jagdish Raj  Yash Chopra   11\n",
      "1  Manmohan Krishna  Yash Chopra   10\n",
      "2          Iftekhar  Yash Chopra    9\n",
      "3     Shashi Kapoor  Yash Chopra    7\n",
      "4     Rakhee Gulzar  Yash Chopra    5\n",
      "5    Waheeda Rehman  Yash Chopra    5\n",
      "**************************************************\n",
      "Number of rows  98\n"
     ]
    }
   ],
   "source": [
    "print(q8.head(6))\n",
    "print('*'*50)\n",
    "print('Number of rows ',len(q8))"
   ]
  },
  {
   "cell_type": "markdown",
   "metadata": {},
   "source": [
    "## Q9 --- The Shahrukh number of an actor is the length of the shortest path between the actor and Shahrukh Khan in the \"co-acting\" graph. That is, Shahrukh Khan has Shahrukh number 0; all actors who acted in the same film as Shahrukh have Shahrukh number 1; all actors who acted in the same film as some actor with Shahrukh number 1 have Shahrukh number 2, etc. Return all actors whose Shahrukh number is 2."
   ]
  },
  {
   "cell_type": "code",
   "execution_count": 6,
   "metadata": {},
   "outputs": [
    {
     "name": "stdout",
     "output_type": "stream",
     "text": [
      "(24308, 1)\n",
      "Wall time: 1.41 s\n"
     ]
    }
   ],
   "source": [
    "%%time\n",
    "# Write your sql query below\n",
    "## Approach :\n",
    "##  (1) -- extracts all the movies by sharukh khan \n",
    "# (1) --select distinct mc.MID from M_Cast mc join Person p using(PID) where lower(p.name) = 'sharukh khan'  \n",
    "## (2) ---extracts all the co-stars(aka sharukh 1) of shahrukh khan (aka sharukh 0)\n",
    "# (2) --select distinct p.PID from M_Cast mc join Person p where mc.MID in (1) and  lower(p.name) != 'sharukh khan' \n",
    "## (3)---extracts all the movies by co-stars(aka sharukh 1) of shahrukh khan (aka sharukh 0)\n",
    "#(3) --select distinct mc.MID from M_Cast mc join Person p where p.PID in (2) \n",
    "# (4)--## extracts all the co-stars(aka sharukh 2) of sharukh 1 \n",
    "#(4) --select distinct p.PID from M_Cast mc join Person p using(PID) where mc.MID in (3) and p.PID not in (2) \n",
    "\n",
    "query = \"\"\" select distinct p.name from M_Cast mc join Person p using(PID) \n",
    "\n",
    "            where mc.MID in \n",
    "            \n",
    "            (select distinct mc.MID \n",
    "                from \n",
    "                    M_Cast mc \n",
    "                join \n",
    "                    Person p using(PID) \n",
    "                where p.PID in \n",
    "                    (select distinct p.PID \n",
    "                        from \n",
    "                            M_Cast mc \n",
    "                        join Person p using(PID) \n",
    "                    where mc.MID in \n",
    "                        (select distinct mc.MID \n",
    "                            from \n",
    "                                M_Cast mc \n",
    "                            join Person p using(PID) \n",
    "                         where lower(p.name) = 'shah rukh khan') and lower(p.name) != 'shah rukh khan'))\n",
    "                        \n",
    "            and p.PID not in \n",
    "            \n",
    "            (select distinct p.PID \n",
    "                from \n",
    "                    M_Cast mc \n",
    "                join Person p using(PID) \n",
    "             where mc.MID in \n",
    "                (select distinct mc.MID \n",
    "                     from \n",
    "                         M_Cast mc \n",
    "                     join Person p using(PID) \n",
    "                 where lower(p.name) = 'shah rukh khan') and  lower(p.name) != 'shah rukh khan') \n",
    "            \n",
    "            and lower(p.name) != 'shah rukh khan'\n",
    " \n",
    "        \n",
    "        \"\"\"\n",
    "\n",
    "q9 = pd.read_sql_query(query, conn)    \n",
    "print(q9.shape)\n",
    "q9.head()"
   ]
  },
  {
   "cell_type": "code",
   "execution_count": 8,
   "metadata": {},
   "outputs": [
    {
     "name": "stdout",
     "output_type": "stream",
     "text": [
      "                    Name\n",
      "0           Freida Pinto\n",
      "1            Rohan Chand\n",
      "2           Damian Young\n",
      "3        Waris Ahluwalia\n",
      "4  Caroline Christl Long\n",
      "**************************************************\n",
      "Number of rows  24308\n"
     ]
    }
   ],
   "source": [
    "print(q9.head(5))\n",
    "print('*'*50)\n",
    "print('Number of rows ',len(q9))"
   ]
  }
 ],
 "metadata": {
  "kernelspec": {
   "display_name": "Python 3",
   "language": "python",
   "name": "python3"
  },
  "language_info": {
   "codemirror_mode": {
    "name": "ipython",
    "version": 3
   },
   "file_extension": ".py",
   "mimetype": "text/x-python",
   "name": "python",
   "nbconvert_exporter": "python",
   "pygments_lexer": "ipython3",
   "version": "3.6.8"
  }
 },
 "nbformat": 4,
 "nbformat_minor": 2
}
